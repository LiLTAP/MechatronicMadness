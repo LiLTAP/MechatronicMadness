{
 "cells": [
  {
   "cell_type": "markdown",
   "id": "81d48429-4cd6-4023-8e05-167e9be84f03",
   "metadata": {},
   "source": [
    "# Aufgaben zu Einheit 4"
   ]
  },
  {
   "cell_type": "markdown",
   "id": "8002001a-4b37-4b82-bbeb-cb5c39ed7c2a",
   "metadata": {},
   "source": [
    "***"
   ]
  },
  {
   "cell_type": "markdown",
   "id": "7a75974f-8551-44b7-9ea8-2b0662c1e092",
   "metadata": {},
   "source": [
    "## Aufgabe 1"
   ]
  },
  {
   "cell_type": "markdown",
   "id": "61373dd2-6f29-4682-9dce-78c20252e343",
   "metadata": {},
   "source": [
    "Definition der Zahl $n>1$, bis zu welcher alle Primzahlen ermittelt werden sollen"
   ]
  },
  {
   "cell_type": "code",
   "execution_count": 1,
   "id": "f7513c28-77b6-4839-a779-9033d3883fb6",
   "metadata": {},
   "outputs": [],
   "source": [
    "n = 42"
   ]
  },
  {
   "cell_type": "markdown",
   "id": "273843ef-95a4-4fa5-8d2d-bc3802c46442",
   "metadata": {},
   "source": [
    "Erstellen einer Basisliste mit $n+1$ logischen Werten, die zunächst alle auf *True* gesetzt sind. Der logische Werte beim Index $i$ wird später auf *False* gesetzt, falls die Zahl $i$ keine Primzahl ist."
   ]
  },
  {
   "cell_type": "code",
   "execution_count": 2,
   "id": "afbc9f1a-eb7a-4985-8be4-37fbbad8c2ef",
   "metadata": {},
   "outputs": [],
   "source": [
    "isPrime = [True for i in range(n+1)]"
   ]
  },
  {
   "cell_type": "markdown",
   "id": "b6cc5107-1c39-404f-ac46-c680cb6b616e",
   "metadata": {},
   "source": [
    "Ausschließen von 0 und 1 aus der Basisliste."
   ]
  },
  {
   "cell_type": "code",
   "execution_count": 3,
   "id": "1cc0c6ca-57e1-4b72-a751-bbdb4d133dca",
   "metadata": {},
   "outputs": [],
   "source": [
    "isPrime[0] = False\n",
    "isPrime[1] = False"
   ]
  },
  {
   "cell_type": "markdown",
   "id": "9ccf12b9-55d0-4fd7-9810-2216232c7682",
   "metadata": {},
   "source": [
    "Anwenden des Sieb des Eratosthenes auf die Basisliste:\n",
    "\n",
    "Für jede Zahl $i$, für die gilt $2 \\leq i \\leq \\sqrt{n}$ und $i \\neq prim$ wird, beginnend bei $i=2$, jedes Vielfache $i*k < n$ in der Basisliste als nicht prim markiert (d.h. der logische Wert der Liste beim Index $i*k$ wird auf *False* gesetzt)."
   ]
  },
  {
   "cell_type": "code",
   "execution_count": 4,
   "id": "7d82ead8-9886-4766-8898-02b0a5fe6795",
   "metadata": {},
   "outputs": [],
   "source": [
    "for i in range(2, round(n**(1/2))+1):\n",
    "    if isPrime[i] is True:\n",
    "        k = 2\n",
    "        while i*k <= n:\n",
    "            isPrime[i*k] = False\n",
    "            k += 1"
   ]
  },
  {
   "cell_type": "markdown",
   "id": "3676e6ad-d566-4664-89b2-0e4bd6e2ca24",
   "metadata": {},
   "source": [
    "Erstellen einer Primzahlenliste, die zunächst nur die Zahl $2$ enthält. An diese wird für jeden Index $i$ der Basisliste, der den logischen Wert *True* enthält, die Zahl $i$ als Primzahl angehängt."
   ]
  },
  {
   "cell_type": "code",
   "execution_count": 5,
   "id": "98e1e219-c81a-4ed0-ae5c-cdd6d558bd6c",
   "metadata": {},
   "outputs": [],
   "source": [
    "primes = [2]\n",
    "for i in range(3, n+1):\n",
    "    if isPrime[i] is True:\n",
    "        primes.append(i)"
   ]
  },
  {
   "cell_type": "markdown",
   "id": "1cb80f0a-728b-4cab-bb6a-7cff66e935da",
   "metadata": {},
   "source": [
    "In der Primzahlenliste sind jetzt alle Primzahlen $\\leq n$ abgespeichert."
   ]
  },
  {
   "cell_type": "code",
   "execution_count": 6,
   "id": "6fbea9c9-83e7-443b-8cc5-e5074ee56341",
   "metadata": {},
   "outputs": [
    {
     "data": {
      "text/plain": [
       "[2, 3, 5, 7, 11, 13, 17, 19, 23, 29, 31, 37, 41]"
      ]
     },
     "execution_count": 6,
     "metadata": {},
     "output_type": "execute_result"
    }
   ],
   "source": [
    "primes"
   ]
  },
  {
   "cell_type": "markdown",
   "id": "31d07613-45b0-4f73-a1ab-9cc0b751b9f6",
   "metadata": {},
   "source": [
    "***"
   ]
  },
  {
   "cell_type": "markdown",
   "id": "c1070fde-7793-48b5-ae6a-84478285c870",
   "metadata": {},
   "source": [
    "## Aufgabe 2"
   ]
  },
  {
   "cell_type": "markdown",
   "id": "c9234a74-1e5a-4287-a9e0-b532f21399d4",
   "metadata": {},
   "source": [
    "Einfacher Taschenrechner mit den Operationen $+, -, *, /$\n",
    "\n",
    "Zuerst wird der gewünschte Operator eingelesen. Ist dieser *quit*, so wird die Eingabeschleife beendet, ist dieser ungültig, so wird eine erneute Eingabe verlangt.\n",
    "\n",
    "Bei gültigem Operator werden die beiden Operanden nacheinander eingelesen. Die zuerst eingelesene Zahl wird dabei als linksseitiger Operand angenommen. Das Ergebnis wird in der Form $Zahl1 \\otimes Zahl2 = Ergebnis$ für den jeweils zuvor gewählten Operator $\\otimes$ ausgegeben."
   ]
  },
  {
   "cell_type": "code",
   "execution_count": 7,
   "id": "2fb10147-ac33-42c4-bafc-ce1a48418f94",
   "metadata": {},
   "outputs": [
    {
     "name": "stdin",
     "output_type": "stream",
     "text": [
      "Operator: test\n"
     ]
    },
    {
     "name": "stdout",
     "output_type": "stream",
     "text": [
      "Unbekannter Operator\n"
     ]
    },
    {
     "name": "stdin",
     "output_type": "stream",
     "text": [
      "Operator: +\n",
      "Zahl 1: 4\n",
      "Zahl 2: 6\n"
     ]
    },
    {
     "name": "stdout",
     "output_type": "stream",
     "text": [
      "4 + 6 = 10\n"
     ]
    },
    {
     "name": "stdin",
     "output_type": "stream",
     "text": [
      "Operator: -\n",
      "Zahl 1: 4\n",
      "Zahl 2: 6\n"
     ]
    },
    {
     "name": "stdout",
     "output_type": "stream",
     "text": [
      "4 - 6 = -2\n"
     ]
    },
    {
     "name": "stdin",
     "output_type": "stream",
     "text": [
      "Operator: *\n",
      "Zahl 1: 4\n",
      "Zahl 2: 6\n"
     ]
    },
    {
     "name": "stdout",
     "output_type": "stream",
     "text": [
      "4 * 6 = 24\n"
     ]
    },
    {
     "name": "stdin",
     "output_type": "stream",
     "text": [
      "Operator: /\n",
      "Zahl 1: 4\n",
      "Zahl 2: 6\n"
     ]
    },
    {
     "name": "stdout",
     "output_type": "stream",
     "text": [
      "4 / 6 = 0.6666666666666666\n"
     ]
    },
    {
     "name": "stdin",
     "output_type": "stream",
     "text": [
      "Operator: quit\n"
     ]
    }
   ],
   "source": [
    "operators = ['+', '-', '*', '/']\n",
    "while True:\n",
    "    op = input('Operator:')\n",
    "    if op == 'quit':\n",
    "        break\n",
    "    if op not in operators:\n",
    "        print('Unbekannter Operator')\n",
    "    else:\n",
    "        n1 = int(input('Zahl 1:'))\n",
    "        n2 = int(input('Zahl 2:'))\n",
    "        res = int\n",
    "\n",
    "        if op == operators[0]:\n",
    "            res = n1 + n2\n",
    "        elif op == operators[1]:\n",
    "            res = n1 - n2\n",
    "        elif op == operators[2]:\n",
    "            res = n1 * n2\n",
    "        elif op == operators[3]:\n",
    "            res = n1 / n2\n",
    "        print('{} {} {} = {}'.format(n1, op, n2, res))"
   ]
  }
 ],
 "metadata": {
  "kernelspec": {
   "display_name": "Python 3",
   "language": "python",
   "name": "python3"
  },
  "language_info": {
   "codemirror_mode": {
    "name": "ipython",
    "version": 3
   },
   "file_extension": ".py",
   "mimetype": "text/x-python",
   "name": "python",
   "nbconvert_exporter": "python",
   "pygments_lexer": "ipython3",
   "version": "3.9.5"
  }
 },
 "nbformat": 4,
 "nbformat_minor": 5
}
